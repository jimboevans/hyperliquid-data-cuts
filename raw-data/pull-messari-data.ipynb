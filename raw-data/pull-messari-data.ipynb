{
 "cells": [
  {
   "cell_type": "code",
   "execution_count": 2,
   "id": "b53cff41-6cc9-499c-bc70-f7f3105e1c28",
   "metadata": {},
   "outputs": [
    {
     "name": "stdout",
     "output_type": "stream",
     "text": [
      "Data saved to defillama-raw-data/messari_ethereum_price.json\n"
     ]
    }
   ],
   "source": [
    "import requests\n",
    "import json\n",
    "from dotenv import load_dotenv\n",
    "import os\n",
    "\n",
    "# Load API key\n",
    "\n",
    "# Load environment variables\n",
    "load_dotenv(\"API_KEYS.env\")\n",
    "messari_api_key = os.getenv(\"MESSARI_API_KEY\")\n",
    "\n",
    "asset_slug = 'ethereum'\n",
    "start_date = '2022-04-24'\n",
    "end_date = '2025-04-28'\n",
    "\n",
    "# Define the API URL\n",
    "url = f\"https://api.messari.io/metrics/v2/assets/{asset_slug}/metrics/price/time-series/1d?start={start_date}T00%3A00%3A00Z&end={end_date}T00%3A00%3A00Z\"\n",
    "\n",
    "headers = {\n",
    "    \"accept\": \"application/json\",\n",
    "    \"x-messari-api-key\": messari_api_key\n",
    "}\n",
    "\n",
    "# Make the GET request\n",
    "response = requests.get(url, headers=headers)\n",
    "\n",
    "# Raise an error if the request failed\n",
    "response.raise_for_status()\n",
    "\n",
    "# Parse the response JSON\n",
    "data = response.json()\n",
    "\n",
    "# Save it to a file\n",
    "with open(f\"messari-raw-data/messari_{asset_slug}_price.json\", \"w\") as f:\n",
    "    json.dump(data, f, indent=2)\n",
    "\n",
    "print(f\"Data saved to defillama-raw-data/messari_{asset_slug}_price.json\")"
   ]
  },
  {
   "cell_type": "code",
   "execution_count": 1,
   "id": "c9be629a-c640-4340-8717-a029065de51a",
   "metadata": {},
   "outputs": [
    {
     "name": "stdout",
     "output_type": "stream",
     "text": [
      "Data saved to defillama-raw-data/messari_bitcoin_futures-volume.json\n"
     ]
    }
   ],
   "source": [
    "import requests\n",
    "import json\n",
    "from dotenv import load_dotenv\n",
    "import os\n",
    "\n",
    "# Load API key\n",
    "\n",
    "# Load environment variables\n",
    "load_dotenv(\"API_KEYS.env\")\n",
    "messari_api_key = os.getenv(\"MESSARI_API_KEY\")\n",
    "\n",
    "asset_slug = 'bitcoin'\n",
    "start_date = '2024-04-24'\n",
    "end_date = '2025-04-24'\n",
    "\n",
    "# Define the API URL\n",
    "url = f\"https://api.messari.io/metrics/v2/assets/{asset_slug}/metrics/futures-volume/time-series/1d?start={start_date}T00%3A00%3A00Z&end={end_date}T00%3A00%3A00Z\"\n",
    "\n",
    "headers = {\n",
    "    \"accept\": \"application/json\",\n",
    "    \"x-messari-api-key\": messari_api_key\n",
    "}\n",
    "\n",
    "# Make the GET request\n",
    "response = requests.get(url, headers=headers)\n",
    "\n",
    "# Raise an error if the request failed\n",
    "response.raise_for_status()\n",
    "\n",
    "# Parse the response JSON\n",
    "data = response.json()\n",
    "\n",
    "# Save it to a file\n",
    "with open(f\"messari-raw-data/messari_{asset_slug}_futures-volume.json\", \"w\") as f:\n",
    "    json.dump(data, f, indent=2)\n",
    "\n",
    "print(f\"Data saved to defillama-raw-data/messari_{asset_slug}_futures-volume.json\")"
   ]
  },
  {
   "cell_type": "code",
   "execution_count": 1,
   "id": "c7e564ef-31cf-445e-ac30-832a68dc9b5f",
   "metadata": {},
   "outputs": [
    {
     "name": "stdout",
     "output_type": "stream",
     "text": [
      "Hyperliquid:\n",
      "Data saved to defillama-raw-data/messari_hyperliquid_futures-open-interest.json\n",
      "Data saved to defillama-raw-data/messari_hyperliquid_futures-funding-rate.json\n",
      "Data saved to defillama-raw-data/messari_hyperliquid_marketcap.json\n",
      "Data saved to defillama-raw-data/messari_hyperliquid_price.json\n",
      "Data saved to defillama-raw-data/messari_hyperliquid_supply.json\n",
      "\n"
     ]
    }
   ],
   "source": [
    "import requests\n",
    "import json\n",
    "from dotenv import load_dotenv\n",
    "import os\n",
    "\n",
    "start_date = '2022-05-01'\n",
    "end_date = '2025-04-30'\n",
    "\n",
    "# Load environment variables\n",
    "load_dotenv(\"API_KEYS.env\")\n",
    "messari_api_key = os.getenv(\"MESSARI_API_KEY\")\n",
    "\n",
    "def pull_messari_data(asset_slug, metric, start_date, end_date):\n",
    "    # Define the API URL\n",
    "    url = f\"https://api.messari.io/metrics/v2/assets/{asset_slug}/metrics/{metric}/time-series/1d?start={start_date}T00%3A00%3A00Z&end={end_date}T00%3A00%3A00Z\"\n",
    "\n",
    "    \n",
    "    headers = {\n",
    "        \"accept\": \"application/json\",\n",
    "        \"x-messari-api-key\": messari_api_key\n",
    "    }\n",
    "    \n",
    "    # Make the GET request\n",
    "    response = requests.get(url, headers=headers)\n",
    "    \n",
    "    # Raise an error if the request failed\n",
    "    response.raise_for_status()\n",
    "    \n",
    "    # Parse the response JSON\n",
    "    data = response.json()\n",
    "    \n",
    "    # Save it to a file\n",
    "    with open(f\"messari-raw-data/messari_{asset_slug}_{metric}.json\", \"w\") as f:\n",
    "        json.dump(data, f, indent=2)\n",
    "\n",
    "# Call the function\n",
    "assets = {'hyperliquid': 'Hyperliquid'\n",
    "         }\n",
    "\n",
    "metrics = ['futures-open-interest',\n",
    "           'futures-funding-rate',\n",
    "           'marketcap',\n",
    "           'price',\n",
    "           'supply'\n",
    "          ]\n",
    "\n",
    "\n",
    "for asset_slug, asset_name in assets.items():\n",
    "    print(f'{asset_name}:')\n",
    "    for metric in metrics:\n",
    "        pull_messari_data(asset_slug, metric, start_date, end_date)\n",
    "        print(f\"Data saved to defillama-raw-data/messari_{asset_slug}_{metric}.json\")\n",
    "    print()"
   ]
  }
 ],
 "metadata": {
  "kernelspec": {
   "display_name": "Python 3 (ipykernel)",
   "language": "python",
   "name": "python3"
  },
  "language_info": {
   "codemirror_mode": {
    "name": "ipython",
    "version": 3
   },
   "file_extension": ".py",
   "mimetype": "text/x-python",
   "name": "python",
   "nbconvert_exporter": "python",
   "pygments_lexer": "ipython3",
   "version": "3.12.10"
  }
 },
 "nbformat": 4,
 "nbformat_minor": 5
}
