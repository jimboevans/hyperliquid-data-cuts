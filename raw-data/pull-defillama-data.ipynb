{
 "cells": [
  {
   "cell_type": "code",
   "execution_count": 1,
   "id": "aa5d350b-d2a2-49f7-baa2-3dbc0382af01",
   "metadata": {},
   "outputs": [
    {
     "name": "stdout",
     "output_type": "stream",
     "text": [
      "Data saved to defillama-raw-data/defillama_HLP.json\n"
     ]
    }
   ],
   "source": [
    "import requests\n",
    "import json\n",
    "\n",
    "# Define the API URL\n",
    "url = \"https://api.llama.fi/protocol/Hyperliquid%20HLP\"\n",
    "\n",
    "# Make the GET request\n",
    "response = requests.get(url)\n",
    "\n",
    "# Raise an error if the request failed\n",
    "response.raise_for_status()\n",
    "\n",
    "# Parse the response JSON\n",
    "data = response.json()\n",
    "\n",
    "# Save it to a file\n",
    "with open(\"defillama-raw-data/defillama_HLP.json\", \"w\") as f:\n",
    "    json.dump(data, f, indent=2)\n",
    "\n",
    "print(\"Data saved to defillama-raw-data/defillama_HLP.json\")"
   ]
  },
  {
   "cell_type": "code",
   "execution_count": 2,
   "id": "c7b0baba-3f4b-473b-bc0f-dd6fa82b621c",
   "metadata": {},
   "outputs": [
    {
     "name": "stdout",
     "output_type": "stream",
     "text": [
      "Data saved to defillama-raw-data/defillama_hyperliquid-fees.json\n"
     ]
    }
   ],
   "source": [
    "import requests\n",
    "import json\n",
    "\n",
    "# Define the API URL\n",
    "url = \"https://api.llama.fi/summary/fees/hyperliquid?dataType=dailyFees\"\n",
    "\n",
    "# Make the GET request\n",
    "response = requests.get(url)\n",
    "\n",
    "# Raise an error if the request failed\n",
    "response.raise_for_status()\n",
    "\n",
    "# Parse the response JSON\n",
    "data = response.json()\n",
    "\n",
    "# Save it to a file\n",
    "with open(\"defillama-raw-data/defillama_hyperliquid-fees.json\", \"w\") as f:\n",
    "    json.dump(data, f, indent=2)\n",
    "\n",
    "print(\"Data saved to defillama-raw-data/defillama_hyperliquid-fees.json\")"
   ]
  },
  {
   "cell_type": "code",
   "execution_count": 3,
   "id": "d321f94b-79df-4f78-9a7b-dc6ed953f494",
   "metadata": {},
   "outputs": [
    {
     "name": "stdout",
     "output_type": "stream",
     "text": [
      "Data saved to defillama-raw-data/defillama_hyperliquid-spot-volumes.json\n"
     ]
    }
   ],
   "source": [
    "import requests\n",
    "import json\n",
    "\n",
    "# Define the API URL\n",
    "url = \"https://api.llama.fi/summary/dexs/hyperliquid?excludeTotalDataChart=false&excludeTotalDataChartBreakdown=false&dataType=dailyVolume\"\n",
    "\n",
    "# Make the GET request\n",
    "response = requests.get(url)\n",
    "\n",
    "# Raise an error if the request failed\n",
    "response.raise_for_status()\n",
    "\n",
    "# Parse the response JSON\n",
    "data = response.json()\n",
    "\n",
    "# Save it to a file\n",
    "with open(\"defillama-raw-data/defillama_hyperliquid-spot-volumes.json\", \"w\") as f:\n",
    "    json.dump(data, f, indent=2)\n",
    "\n",
    "print(\"Data saved to defillama-raw-data/defillama_hyperliquid-spot-volumes.json\")"
   ]
  },
  {
   "cell_type": "code",
   "execution_count": 4,
   "id": "6f0e8d61-070a-4c4e-8f6b-1d892cb52074",
   "metadata": {},
   "outputs": [
    {
     "name": "stdout",
     "output_type": "stream",
     "text": [
      "Data saved to defillama-raw-data/defillama_pumpfun-spot-volumes.json\n"
     ]
    }
   ],
   "source": [
    "import requests\n",
    "import json\n",
    "\n",
    "# Define the API URL\n",
    "url = \"https://api.llama.fi/summary/dexs/pump.fun?excludeTotalDataChart=false&excludeTotalDataChartBreakdown=false&dataType=dailyVolume\"\n",
    "\n",
    "# Make the GET request\n",
    "response = requests.get(url)\n",
    "\n",
    "# Raise an error if the request failed\n",
    "response.raise_for_status()\n",
    "\n",
    "# Parse the response JSON\n",
    "data = response.json()\n",
    "\n",
    "# Save it to a file\n",
    "with open(\"defillama-raw-data/defillama_pumpfun-spot-volumes.json\", \"w\") as f:\n",
    "    json.dump(data, f, indent=2)\n",
    "\n",
    "print(\"Data saved to defillama-raw-data/defillama_pumpfun-spot-volumes.json\")"
   ]
  },
  {
   "cell_type": "code",
   "execution_count": 5,
   "id": "27d7e23d-1974-4250-b973-c2990177fe19",
   "metadata": {},
   "outputs": [
    {
     "name": "stdout",
     "output_type": "stream",
     "text": [
      "Data saved to defillama-raw-data/defillama_ostium-fees.json\n"
     ]
    }
   ],
   "source": [
    "import requests\n",
    "import json\n",
    "\n",
    "# Define the API URL\n",
    "url = \"https://api.llama.fi/summary/fees/ostium?dataType=dailyFees\"\n",
    "\n",
    "# Make the GET request\n",
    "response = requests.get(url)\n",
    "\n",
    "# Raise an error if the request failed\n",
    "response.raise_for_status()\n",
    "\n",
    "# Parse the response JSON\n",
    "data = response.json()\n",
    "\n",
    "# Save it to a file\n",
    "with open(\"defillama-raw-data/defillama_ostium-fees.json\", \"w\") as f:\n",
    "    json.dump(data, f, indent=2)\n",
    "\n",
    "print(\"Data saved to defillama-raw-data/defillama_ostium-fees.json\")"
   ]
  },
  {
   "cell_type": "code",
   "execution_count": 6,
   "id": "e6b9ffe5-4d52-4e2b-9a7f-8627133a7aa7",
   "metadata": {},
   "outputs": [
    {
     "name": "stdout",
     "output_type": "stream",
     "text": [
      "Data saved to defillama-raw-data/defillama_makerdao-fees.json\n"
     ]
    }
   ],
   "source": [
    "import requests\n",
    "import json\n",
    "\n",
    "# Define the API URL\n",
    "url = \"https://api.llama.fi/summary/fees/makerdao?dataType=dailyFees\"\n",
    "\n",
    "# Make the GET request\n",
    "response = requests.get(url)\n",
    "\n",
    "# Raise an error if the request failed\n",
    "response.raise_for_status()\n",
    "\n",
    "# Parse the response JSON\n",
    "data = response.json()\n",
    "\n",
    "# Save it to a file\n",
    "with open(\"defillama-raw-data/defillama_makerdao-fees.json\", \"w\") as f:\n",
    "    json.dump(data, f, indent=2)\n",
    "\n",
    "print(\"Data saved to defillama-raw-data/defillama_makerdao-fees.json\")"
   ]
  },
  {
   "cell_type": "code",
   "execution_count": 7,
   "id": "3d5f242a-97f4-4114-a9e7-2a0f41507af8",
   "metadata": {},
   "outputs": [
    {
     "name": "stdout",
     "output_type": "stream",
     "text": [
      "Data saved to defillama-raw-data/defillama_makerdao-tvl.json\n"
     ]
    }
   ],
   "source": [
    "import requests\n",
    "import json\n",
    "\n",
    "# Define the API URL\n",
    "url = \"https://api.llama.fi/protocol/makerdao\"\n",
    "\n",
    "# Make the GET request\n",
    "response = requests.get(url)\n",
    "\n",
    "# Raise an error if the request failed\n",
    "response.raise_for_status()\n",
    "\n",
    "# Parse the response JSON\n",
    "data = response.json()\n",
    "\n",
    "# Save it to a file\n",
    "with open(\"defillama-raw-data/defillama_makerdao-tvl.json\", \"w\") as f:\n",
    "    json.dump(data, f, indent=2)\n",
    "\n",
    "print(\"Data saved to defillama-raw-data/defillama_makerdao-tvl.json\")"
   ]
  },
  {
   "cell_type": "code",
   "execution_count": 8,
   "id": "48a8dd22-af22-4371-824a-88e83c5f51f1",
   "metadata": {},
   "outputs": [
    {
     "name": "stdout",
     "output_type": "stream",
     "text": [
      "Data saved to defillama-raw-data/defillama_all-protocols.json\n"
     ]
    }
   ],
   "source": [
    "# Pull down TVL data for all protocols\n",
    "\n",
    "import requests\n",
    "import json\n",
    "\n",
    "# Define the API URL\n",
    "url = \"https://api.llama.fi/protocols\"\n",
    "\n",
    "# Make the GET request\n",
    "response = requests.get(url)\n",
    "\n",
    "# Raise an error if the request failed\n",
    "response.raise_for_status()\n",
    "\n",
    "# Parse the response JSON\n",
    "data = response.json()\n",
    "\n",
    "# Save it to a file\n",
    "with open(\"defillama-raw-data/defillama_all-protocols.json\", \"w\") as f:\n",
    "    json.dump(data, f, indent=2)\n",
    "\n",
    "print(\"Data saved to defillama-raw-data/defillama_all-protocols.json\")"
   ]
  },
  {
   "cell_type": "code",
   "execution_count": 9,
   "id": "978936f3-4787-49bd-969a-6b996695ce3c",
   "metadata": {},
   "outputs": [
    {
     "name": "stdout",
     "output_type": "stream",
     "text": [
      "Data saved to defillama-raw-data/hyperevm/defillama_felix_tvl.json\n",
      "Data saved to defillama-raw-data/hyperevm/defillama_hyperlend_tvl.json\n",
      "Data saved to defillama-raw-data/hyperevm/defillama_hypurrfi_tvl.json\n",
      "Data saved to defillama-raw-data/hyperevm/defillama_hyperswap_tvl.json\n",
      "Data saved to defillama-raw-data/hyperevm/defillama_kittenswap-finance_tvl.json\n",
      "Data saved to defillama-raw-data/hyperevm/defillama_looped-hype_tvl.json\n",
      "Data saved to defillama-raw-data/hyperevm/defillama_sentiment_tvl.json\n",
      "Data saved to defillama-raw-data/hyperevm/defillama_laminar_tvl.json\n",
      "Data saved to defillama-raw-data/hyperevm/defillama_upshift_tvl.json\n",
      "Data saved to defillama-raw-data/hyperevm/defillama_keiko-finance_tvl.json\n",
      "Data saved to defillama-raw-data/hyperevm/defillama_valantis_tvl.json\n",
      "Data saved to defillama-raw-data/hyperevm/defillama_hyperyield_tvl.json\n",
      "Data saved to defillama-raw-data/hyperevm/defillama_magpie-ecosystem_tvl.json\n",
      "Data saved to defillama-raw-data/hyperevm/defillama_growihf_tvl.json\n",
      "Data saved to defillama-raw-data/hyperevm/defillama_timeswap_tvl.json\n",
      "Data saved to defillama-raw-data/hyperevm/defillama_fan.fun_tvl.json\n",
      "Done\n"
     ]
    }
   ],
   "source": [
    "# Pull TVL for HyperEVM protocols\n",
    "\n",
    "import requests\n",
    "import json\n",
    "import time\n",
    "\n",
    "# define top HyperEVM protocols tracked by DefiLlama\n",
    "hyperevm = [\n",
    "    'felix',\n",
    "    'hyperlend',\n",
    "    'hypurrfi',\n",
    "    'hyperswap',\n",
    "    'kittenswap-finance',\n",
    "    'looped-hype',\n",
    "    'sentiment',\n",
    "    'laminar',\n",
    "    'upshift',\n",
    "    'keiko-finance',\n",
    "    'valantis',\n",
    "    'hyperyield',\n",
    "    'magpie-ecosystem',\n",
    "    'growihf',\n",
    "    'timeswap',\n",
    "    'fan.fun'\n",
    "]\n",
    "\n",
    "# Set up hyperevm loop\n",
    "for i in hyperevm:\n",
    "    # Define the API URL\n",
    "    url = f\"https://api.llama.fi/protocol/{i}\"\n",
    "    \n",
    "    # Make the GET request\n",
    "    response = requests.get(url)\n",
    "    \n",
    "    # Raise an error if the request failed\n",
    "    response.raise_for_status()\n",
    "    \n",
    "    # Parse the response JSON\n",
    "    data = response.json()\n",
    "    \n",
    "    # Save it to a file\n",
    "    with open(f\"defillama-raw-data/hyperevm/defillama_{i}_tvl.json\", \"w\") as f:\n",
    "        json.dump(data, f, indent=2)\n",
    "    \n",
    "    print(f\"Data saved to defillama-raw-data/hyperevm/defillama_{i}_tvl.json\")\n",
    "    time.sleep(1)\n",
    "\n",
    "print(\"Done\")"
   ]
  },
  {
   "cell_type": "code",
   "execution_count": 10,
   "id": "7cc4c3de-2005-4af9-a79b-7810bb53f690",
   "metadata": {},
   "outputs": [
    {
     "name": "stdout",
     "output_type": "stream",
     "text": [
      "Data saved to defillama-raw-data/defillama_all-ethereum-dex.json\n"
     ]
    }
   ],
   "source": [
    "import requests\n",
    "import json\n",
    "\n",
    "# Define the API URL\n",
    "url = \"https://api.llama.fi/overview/dexs/ethereum?excludeTotalDataChart=false&excludeTotalDataChartBreakdown=false\"\n",
    "\n",
    "# Make the GET request\n",
    "response = requests.get(url)\n",
    "\n",
    "# Raise an error if the request failed\n",
    "response.raise_for_status()\n",
    "\n",
    "# Parse the response JSON\n",
    "data = response.json()\n",
    "\n",
    "# Save it to a file\n",
    "with open(\"defillama-raw-data/defillama_all-ethereum-dexs.json\", \"w\") as f:\n",
    "    json.dump(data, f, indent=2)\n",
    "\n",
    "print(\"Data saved to defillama-raw-data/defillama_all-ethereum-dex.json\")"
   ]
  },
  {
   "cell_type": "code",
   "execution_count": 11,
   "id": "3eca49dc-b606-4e1d-bcde-9cfd6d91a900",
   "metadata": {},
   "outputs": [
    {
     "name": "stdout",
     "output_type": "stream",
     "text": [
      "Data saved to defillama-raw-data/defillama_ethereum-revenue.json\n"
     ]
    }
   ],
   "source": [
    "import requests\n",
    "import json\n",
    "\n",
    "# Define the API URL\n",
    "url = 'https://api.llama.fi/summary/fees/ethereum?dataType=dailyRevenue'\n",
    "\n",
    "# Make the GET request\n",
    "response = requests.get(url)\n",
    "\n",
    "# Raise an error if the request failed\n",
    "response.raise_for_status()\n",
    "\n",
    "# Parse the response JSON\n",
    "data = response.json()\n",
    "\n",
    "# Save it to a file\n",
    "with open(\"defillama-raw-data/defillama_ethereum-revenue.json\", \"w\") as f:\n",
    "    json.dump(data, f, indent=2)\n",
    "\n",
    "print(\"Data saved to defillama-raw-data/defillama_ethereum-revenue.json\")"
   ]
  }
 ],
 "metadata": {
  "kernelspec": {
   "display_name": "Python 3 (ipykernel)",
   "language": "python",
   "name": "python3"
  },
  "language_info": {
   "codemirror_mode": {
    "name": "ipython",
    "version": 3
   },
   "file_extension": ".py",
   "mimetype": "text/x-python",
   "name": "python",
   "nbconvert_exporter": "python",
   "pygments_lexer": "ipython3",
   "version": "3.12.10"
  }
 },
 "nbformat": 4,
 "nbformat_minor": 5
}
