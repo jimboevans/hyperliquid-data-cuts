{
 "cells": [
  {
   "cell_type": "code",
   "execution_count": 4,
   "id": "aa5d350b-d2a2-49f7-baa2-3dbc0382af01",
   "metadata": {},
   "outputs": [
    {
     "name": "stdout",
     "output_type": "stream",
     "text": [
      "Data saved to defillama_HLP.json\n"
     ]
    }
   ],
   "source": [
    "import requests\n",
    "import json\n",
    "\n",
    "# Define the API URL\n",
    "url = \"https://api.llama.fi/protocol/Hyperliquid%20HLP\"\n",
    "\n",
    "# Make the GET request\n",
    "response = requests.get(url)\n",
    "\n",
    "# Raise an error if the request failed\n",
    "response.raise_for_status()\n",
    "\n",
    "# Parse the response JSON\n",
    "data = response.json()\n",
    "\n",
    "# Save it to a file\n",
    "with open(\"defillama_HLP.json\", \"w\") as f:\n",
    "    json.dump(data, f, indent=2)\n",
    "\n",
    "print(\"Data saved to defillama_HLP.json\")"
   ]
  },
  {
   "cell_type": "code",
   "execution_count": 5,
   "id": "c7b0baba-3f4b-473b-bc0f-dd6fa82b621c",
   "metadata": {},
   "outputs": [
    {
     "name": "stdout",
     "output_type": "stream",
     "text": [
      "Data saved to defillama_hyperliquid-fees.json\n"
     ]
    }
   ],
   "source": [
    "import requests\n",
    "import json\n",
    "\n",
    "# Define the API URL\n",
    "url = \"https://api.llama.fi/summary/fees/hyperliquid?dataType=dailyFees\"\n",
    "\n",
    "# Make the GET request\n",
    "response = requests.get(url)\n",
    "\n",
    "# Raise an error if the request failed\n",
    "response.raise_for_status()\n",
    "\n",
    "# Parse the response JSON\n",
    "data = response.json()\n",
    "\n",
    "# Save it to a file\n",
    "with open(\"defillama_hyperliquid-fees.json\", \"w\") as f:\n",
    "    json.dump(data, f, indent=2)\n",
    "\n",
    "print(\"Data saved to defillama_hyperliquid-fees.json\")"
   ]
  },
  {
   "cell_type": "code",
   "execution_count": 6,
   "id": "d321f94b-79df-4f78-9a7b-dc6ed953f494",
   "metadata": {},
   "outputs": [
    {
     "name": "stdout",
     "output_type": "stream",
     "text": [
      "Data saved to defillama_hyperliquid-volumes.json\n"
     ]
    }
   ],
   "source": [
    "import requests\n",
    "import json\n",
    "\n",
    "# Define the API URL\n",
    "url = \"https://api.llama.fi/summary/dexs/hyperliquid?excludeTotalDataChart=false&excludeTotalDataChartBreakdown=false&dataType=dailyVolume\"\n",
    "\n",
    "# Make the GET request\n",
    "response = requests.get(url)\n",
    "\n",
    "# Raise an error if the request failed\n",
    "response.raise_for_status()\n",
    "\n",
    "# Parse the response JSON\n",
    "data = response.json()\n",
    "\n",
    "# Save it to a file\n",
    "with open(\"defillama_hyperliquid-volumes.json\", \"w\") as f:\n",
    "    json.dump(data, f, indent=2)\n",
    "\n",
    "print(\"Data saved to defillama_hyperliquid-volumes.json\")"
   ]
  }
 ],
 "metadata": {
  "kernelspec": {
   "display_name": "Python 3 (ipykernel)",
   "language": "python",
   "name": "python3"
  },
  "language_info": {
   "codemirror_mode": {
    "name": "ipython",
    "version": 3
   },
   "file_extension": ".py",
   "mimetype": "text/x-python",
   "name": "python",
   "nbconvert_exporter": "python",
   "pygments_lexer": "ipython3",
   "version": "3.12.10"
  }
 },
 "nbformat": 4,
 "nbformat_minor": 5
}
