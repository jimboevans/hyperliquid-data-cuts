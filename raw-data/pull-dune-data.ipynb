{
 "cells": [
  {
   "cell_type": "code",
   "execution_count": 1,
   "id": "3e44ed87-e29e-4f70-8413-ec44320ff4b3",
   "metadata": {},
   "outputs": [],
   "source": [
    "import os\n",
    "import json\n",
    "import requests\n",
    "from dotenv import load_dotenv\n",
    "\n",
    "def fetch_and_save_dune_data(query_id, output_filename):\n",
    "    \"\"\"\n",
    "    Fetches data from the Dune API using a query_id and saves the response to a JSON file.\n",
    "    \n",
    "    :param query_id: str - The Dune query ID to fetch data from.\n",
    "    :param output_filename: str - The name of the JSON file where results should be saved.\n",
    "    \"\"\"\n",
    "\n",
    "    # Load environment variables\n",
    "    load_dotenv(\"API_KEYS.env\")\n",
    "    dune_api_key = os.getenv(\"DUNE_API_KEY\")\n",
    "\n",
    "    if not dune_api_key:\n",
    "        print(\"Error: API key not found. Please set DUNE_API_KEY in the .env file.\")\n",
    "        return\n",
    "\n",
    "    url = f\"https://api.dune.com/api/v1/query/{query_id}/results\"\n",
    "    headers = {\"X-DUNE-API-KEY\": dune_api_key}\n",
    "\n",
    "    try:\n",
    "        # Make API request\n",
    "        response = requests.get(url, headers=headers)\n",
    "        response.raise_for_status()  # Raises HTTP errors if they occur\n",
    "        \n",
    "        # Parse response JSON\n",
    "        data = response.json()\n",
    "        \n",
    "        # Save JSON response to file\n",
    "        with open(output_filename, \"w\") as json_file:\n",
    "            json.dump(data, json_file, indent=4)\n",
    "        \n",
    "        print(f\"Data successfully saved to {output_filename}\")\n",
    "\n",
    "    except requests.exceptions.HTTPError as http_err:\n",
    "        print(f\"HTTP error occurred: {http_err}\")\n",
    "    except requests.exceptions.RequestException as req_err:\n",
    "        print(f\"Request error: {req_err}\")\n",
    "    except json.JSONDecodeError:\n",
    "        print(\"Error decoding JSON response\")\n",
    "    except Exception as e:\n",
    "        print(f\"Unexpected error: {e}\")\n"
   ]
  },
  {
   "cell_type": "code",
   "execution_count": 2,
   "id": "e97fd8b0-3a1c-4e29-96e7-94bcd29b9842",
   "metadata": {},
   "outputs": [
    {
     "name": "stdout",
     "output_type": "stream",
     "text": [
      "Data successfully saved to dune-raw-data/dune_weekly-perps-dex-volumes.json\n"
     ]
    }
   ],
   "source": [
    "# Pull down weekly figures for competitive landscape\n",
    "\n",
    "root = 'dune-raw-data/dune_'\n",
    "filename = 'weekly-perps-dex-volumes.json'\n",
    "output_filename = root+filename\n",
    "query_id=\"4078266\"\n",
    "\n",
    "fetch_and_save_dune_data(query_id, output_filename)"
   ]
  }
 ],
 "metadata": {
  "kernelspec": {
   "display_name": "Python 3 (ipykernel)",
   "language": "python",
   "name": "python3"
  },
  "language_info": {
   "codemirror_mode": {
    "name": "ipython",
    "version": 3
   },
   "file_extension": ".py",
   "mimetype": "text/x-python",
   "name": "python",
   "nbconvert_exporter": "python",
   "pygments_lexer": "ipython3",
   "version": "3.12.10"
  }
 },
 "nbformat": 4,
 "nbformat_minor": 5
}
